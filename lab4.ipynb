{
 "cells": [
  {
   "cell_type": "markdown",
   "id": "5a8fa857",
   "metadata": {},
   "source": [
    "# Численное интегрироование"
   ]
  },
  {
   "cell_type": "markdown",
   "id": "84b04a4d",
   "metadata": {
    "tags": []
   },
   "source": [
    "# Постановка задач"
   ]
  },
  {
   "cell_type": "markdown",
   "id": "68371bfa",
   "metadata": {},
   "source": [
    "1. Построить квадратурную формулу максимально возможной степени точности вида $$\\int\\limits_0^1 \\dfrac{f(x)}{\\sqrt{x}} dx \\approx A_0 f(x_0) + A_1 f(x_1).$$\n",
    "\n",
    "2. Определить алгебраическую степень точности указанной квадратурной формулы $$\\int\\limits_0^{1} f(x)dx\\approx \\dfrac{5}{18} f(\\dfrac{1}{2}-\\sqrt{\\dfrac{3}{5}})+\\dfrac{4}{9}f(\\dfrac{1}{2})+\\dfrac{5}{18} f(\\dfrac{1}{2}+\\sqrt{\\dfrac{3}{5}}).$$\n",
    "\n",
    "3. Используя правило Рунге, провести сравнительный анализ квадратурных формул левых прямоугольников и Симпсона на примере вычисления интеграла $$I = \\int\\limits_1^2 \\dfrac{e^x}{x+1} dx.$$\n",
    "\n",
    "4. Вычислить (используя квадратурную формула типа Гаусса) с точностью $\\varepsilon = 10^{-4}$ интеграл $$I = \\int\\limits_0^5 e^{-x^2+x} dx.$$\n",
    "\n",
    "5. Найти с точностью $\\varepsilon= 10^{-4}$ решение уравнения $$\\dfrac{1}{\\sqrt{2\\pi}}\\int\\limits_0^x e^{-t^2} dt = 0.3.$$"
   ]
  },
  {
   "cell_type": "markdown",
   "id": "fe7871bd",
   "metadata": {
    "jp-MarkdownHeadingCollapsed": true,
    "tags": []
   },
   "source": [
    "# Задача 1"
   ]
  },
  {
   "cell_type": "markdown",
   "id": "219a07ac",
   "metadata": {},
   "source": [
    "Для построения квадратурной формулы понадобятся соотношения \\begin{eqnarray}\n",
    "\\begin{cases}\n",
    "\\int\\limits_a^b \\rho(x) x^idx = \\sum\\limits_{k=0}^{n}A_kx^i_k,\\quad i=\\overline{0,m},\\\\\n",
    "\\int\\limits_a^b \\rho(x) x^{m+1}dx \\ne \\sum\\limits_{k=0}^{n}A_kx^i_k;\n",
    "\\end{cases}\n",
    "\\end{eqnarray}\n",
    "причем в этом случае говорят, что квадратурная формула **имеет алгебраическую степень точности равную m**.\n",
    "\t\n",
    "Соответственно для построения квадратурной формулы необходимо построить систему из соотношений (1), по которой мы найдем неизвестные. Затем найти следующее выражение, при котором равенство нарушается.\n",
    "\n",
    "Из условия следует, что неизвестными значениями являются $A_0, A_1$, $x_0, x_1$. Итого 4 неизвестных. Для их отыскания следует построить систему из 4-ех уравнений по формуле (1). Тогда в соответствии со степенями $x^i$ запишем систему\n",
    "$$\\begin{cases}\n",
    "\tx^0 : \\int\\limits_{0}^1 \\dfrac{1}{\\sqrt{x}} dx = A_0 + A_1,\\\\\n",
    "\tx^1 : \\int\\limits_{0}^1 \\dfrac{x}{\\sqrt{x}} dx = A_0x_0 + A_1x_1,\\\\\n",
    "\tx^2 : \\int\\limits_{0}^1 \\dfrac{x^2}{\\sqrt{x}} dx = A_0x_0^2 + A_1x_1^2,\\\\\n",
    "\tx^3 : \\int\\limits_{0}^1 \\dfrac{x^3}{\\sqrt{x}} dx = A_0x_0^3 + A_1x_1^3.\\\\\n",
    "\t\\end{cases}$$ \n",
    "Вычислим значения интегралов из левой части уравнений:\n",
    "$$\\int\\limits_{0}^1 \\dfrac{1}{\\sqrt{x}} dx = 2\\sqrt{x}\\Big|_0^1 = 2.$$\n",
    "$$\\int\\limits_{0}^1 \\dfrac{x}{\\sqrt{x}} dx = \\int\\limits_0^1 \\sqrt{x} = \\dfrac{2}{3} x^{\\dfrac{3}{2}}\\Big|_0^1 = \\dfrac{2}{3}.$$\n",
    "$$\\int\\limits_{0}^1 \\dfrac{x^2}{\\sqrt{x}} dx =\\int\\limits_{0}^1 x\\sqrt{x} dx = \\dfrac{2}{5}x^{\\dfrac{5}{2}}\\Big|_ 0^1 = \\dfrac{2}{5}.$$\n",
    "$$\\int\\limits_{0}^1 \\dfrac{x^3}{\\sqrt{x}} dx =\\int\\limits_{0}^1 x^2\\sqrt{x} dx = \\dfrac{2}{7}x^{\\dfrac{7}{2}}\\Big|_ 0^1 = \\dfrac{2}{7}.$$\n",
    "\n",
    "В итоге имеем систему нелинейных уравнений $$\\begin{cases} A_0 + A_1 = 2, \\\\ A_0x_0 + A_1x_1 = \\dfrac23,\\\\ A_0x_0^2 + A_1x_1^2 = \\dfrac{2}{5}, \\\\ A_0x_0^3 + A_1x_1^3 = \\dfrac{2}{7}. \\end{cases}$$\n",
    "Первое, второе и третье уравнения домножим на $-x_0$ и прибавим ко второму, третьему и четвертому соответственно. Тогда будем иметь систему с тремя неизвестными \n",
    "$$\n",
    "\\begin{cases}\n",
    "A_1x_1 - A_1x_0 = \\dfrac23 - 2x_0,\\\\\n",
    "A_1x_1^2 - A_1x_1x_0 = \\dfrac{2}{5} - \\dfrac23x_0,\\\\\n",
    "A_1x_1^3 - A_1x_1^2x_0 = \\dfrac{2}{7} - \\dfrac{2}{5}x_0.\n",
    "\\end{cases}\n",
    "$$\n",
    "Поступаем аналогично, но умножим первое и второе уравнения на $-x_1$ и прибавим к второму и третьему соответственно. Тогда имеем более простую нелинейную систему из 2-ух уравнений \n",
    "$$\n",
    "\\begin{cases}\n",
    "x_0 + x_1 - 3 x_0x_1 = \\dfrac35,\\\\\n",
    "x_0 + x_1 - \\dfrac53 x_0x_1 = \\dfrac57.\n",
    "\\end{cases}\n",
    "$$\n",
    "Вычтем из второго уравнения первое и получим $$\\dfrac{4x_0x_1}{3} = \\dfrac{4}{35}\\Rightarrow x_0x_1 = \\dfrac{3}{35}.$$\n",
    "В предположении, что $x_1\\ne 0$ (подстановкой в исходную систему можно проверить, что это действительно так), выражаем $x_0$:\n",
    "$$x_0 = \\dfrac{3}{35x_1}.$$\n",
    "Подставляя это выражение в первое уравнение, получим $$\\dfrac{3}{35x_1} + x_1 - 3\\cdot \\dfrac{3}{35} = \\dfrac35.$$\n",
    "Отсюда получаем квадратное уравнение $$x_1^2 - \\dfrac{6}{7} x_1 + \\dfrac{3}{35} = 0.$$\n",
    "Корнями которого являются значения $$x_1 = \\dfrac37 + \\dfrac{2\\sqrt{30}}{35},\\quad x_1 = \\dfrac37 - \\dfrac{2\\sqrt{30}}{35}.$$\n",
    "Подстановкой каждого из значений в выражение $x_0 = \\dfrac{3}{35x_1}$ можно получить, что $$x_0 = \\dfrac37 - \\dfrac{2\\sqrt{30}}{35},\\quad x_0 = \\dfrac37 +\\dfrac{2\\sqrt{30}}{35}.$$\n",
    "Таким образом, мы можем выбрать любое из двух значений. Обусловимся тем, что узлы мы строим в порядке возрастания. Поэтому в итоге выберем $$x_0 = \\dfrac37 - \\dfrac{2\\sqrt{30}}{35},\\quad x_1 = \\dfrac37 +\\dfrac{2\\sqrt{30}}{35}.$$\n",
    "Теперь, используя полученные значения, мы можем из первых двух уравнений исходной системы вычислить $A_0$ и $A_1$. Выпишем эти уравнения, подставив $x_0$, $x_1$:\n",
    "$$\\begin{cases}\n",
    "A_0 + A_1 = 2,\\\\\n",
    "\\dfrac{(15-2\\sqrt{30})A_0 + (15+2\\sqrt{30})A_1}{35}=\\dfrac23.\n",
    "\\end{cases}$$\n",
    "Выразим из первого уравнения $A_1 = 2 - A_0$ и подставим во второе:\n",
    "$$\\dfrac{15A_0-2\\sqrt{30}A_0 + 2(15+2\\sqrt{30}) - 15A_0 - 2\\sqrt{30}A_0}{35}=\\dfrac23.$$\n",
    "Преобразуем уравнение \n",
    "$$\\dfrac{-4\\sqrt{30}A_0}{35} = \\dfrac23 - \\dfrac{30}{35} - \\dfrac{4\\sqrt{30}}{35}.$$\n",
    "$$A_0 = \\dfrac{4\\cdot 35}{21\\cdot4\\sqrt{30}}+1 = 1+\\dfrac{\\sqrt{30}}{18}.$$\n",
    "Тогда $$A_1 = 2 - 1 - \\dfrac{\\sqrt{30}}{18}=1-\\dfrac{\\sqrt{30}}{18}.$$\n",
    "Итого имеем $$A_0 = 1+\\dfrac{\\sqrt{30}}{18},\\quad A_1 = 1-\\dfrac{\\sqrt{30}}{18},\\quad x_0 = \\dfrac37 - \\dfrac{2\\sqrt{30}}{35},\\quad x_0 = \\dfrac37 +\\dfrac{2\\sqrt{30}}{35}.$$\n",
    "В итоге получаем квадратурную формулу, имеющую алгебраическую степень точности не ниже 3. Для уточнения построим еще одно уравнение и проверим, удовлетворяют ли полученные нами данные этому уравнению:\n",
    "$$x^4 : \\int\\limits_{0}^1 \\dfrac{x^4}{\\sqrt{x}} dx = A_0x_0^4 + A_1x_1^4.$$\n",
    "Как и прежде, вычисляем интеграл:\n",
    "$$\\int\\limits_{0}^1 \\dfrac{x^4}{\\sqrt{x}} dx = \\int\\limits_{0}^1 x^3\\sqrt{x} dx = \\dfrac{2}{9}x^{\\dfrac{9}{2}}\\Big|_0^1) = \\dfrac{2}{9}.$$\n",
    "Тогда $$A_0x_0^4 + A_1x_1^4 = \\dfrac29.$$\n",
    "С помощью компьютерных вычислений посчитаем значение слева."
   ]
  },
  {
   "cell_type": "code",
   "execution_count": 1,
   "id": "796fe729",
   "metadata": {},
   "outputs": [
    {
     "data": {
      "text/plain": [
       "0.2106122448979593"
      ]
     },
     "execution_count": 1,
     "metadata": {},
     "output_type": "execute_result"
    }
   ],
   "source": [
    "import math\n",
    "A_0 = (18 + math.sqrt(30)) / 18\n",
    "A_1 = (18 - math.sqrt(30)) / 18\n",
    "x_0 = (15 - 2*math.sqrt(30)) / 35\n",
    "x_1 = (15 + 2*math.sqrt(30)) / 35\n",
    "\n",
    "A_0 * x_0**4 + A_1 * x_1**4"
   ]
  },
  {
   "cell_type": "code",
   "execution_count": 2,
   "id": "af1230cc",
   "metadata": {},
   "outputs": [
    {
     "data": {
      "text/plain": [
       "False"
      ]
     },
     "execution_count": 2,
     "metadata": {},
     "output_type": "execute_result"
    }
   ],
   "source": [
    "A_0 * x_0**4 + A_1 * x_1**4 == 2/9"
   ]
  },
  {
   "cell_type": "markdown",
   "id": "1f480e47",
   "metadata": {},
   "source": [
    "Таким образом, при степени 4 точность нарушается. Следовательно, мы построили квадратурную формулу с АСТ = 3 вида $$\\int\\limits_0^1 \\dfrac{f(x)}{\\sqrt{x}}dx = \\dfrac{18 + \\sqrt{30}}{18}\\cdot f\\left(\\dfrac{15 - 2\\sqrt{30}}{35}\\right) + \\dfrac{18 - \\sqrt{30}}{18}\\cdot f\\left(\\dfrac{15 + 2\\sqrt{30}}{35}\\right).$$"
   ]
  },
  {
   "cell_type": "markdown",
   "id": "f4d35329",
   "metadata": {
    "jp-MarkdownHeadingCollapsed": true,
    "tags": []
   },
   "source": [
    "# Задача 2"
   ]
  },
  {
   "cell_type": "markdown",
   "id": "df7f245b",
   "metadata": {},
   "source": [
    "Для решения задачи понадбятся соотношения (1). Таким образом необходимо строить по одному уравнению из соотношений (1) до тех пор, пока мы не получим неравенство.\n",
    "\n",
    "Теперь обратим внимание на составляющие элементы формулы (1), а именно $\\rho(x), A_k, x_k$. Квадратурная формула для нашей задачи записывается в общем случае в виде\n",
    "$$I(f) = \\int\\limits_a^b \\rho(x)f(x)dx \\approx A_0 f(x_0) + A_1 f(x_1)+ A_2 f(x_2).$$\n",
    "Из постановки задачи мы выделяем, что $$\\rho(x) = 1,\\quad A_0 =\\dfrac5{18},\\quad x_0 =\\dfrac12-\\sqrt{\\dfrac35},\\quad A_1 = \\dfrac49,\\quad x_1 = \\dfrac12,\\quad A_2=\\dfrac5{18}, \\quad x_2 =\\dfrac12+\\sqrt{\\dfrac35}.$$\n",
    "Остается лишь записывать соотношения из (1) последовательно, повышая степень $i$ на каждом шаге.\n",
    "\n",
    "Берем $i=0$:\n",
    "$$x^0 : \\int\\limits_0^1 1dx=1 \\overset{?}{=}  A_0 + A_1+A_2.$$\n",
    "Тогда $$1 \\overset{?}{=} A_0 + A_1+A_2 = \\dfrac5{18} + \\dfrac49 + \\dfrac5{18} = 1.$$\n",
    "Равенство выполняется.\n",
    "\n",
    "Берем $i=1$:\n",
    "$$x^1 : \\int\\limits_0^{1} x dx = \\dfrac12 \\overset{?}{=}  A_0x_0 + A_1x_1+A_2x_2.$$\n",
    "Тогда $$\\dfrac12 \\overset{?}{=} A_0x_0 + A_1x_1 +A_2x_2= \\dfrac5{18}\\cdot(\\dfrac12-\\sqrt{\\dfrac35}) + \\dfrac49\\cdot(\\dfrac12) + \\dfrac5{18}\\cdot(\\dfrac12+\\sqrt{\\dfrac35}) = \\dfrac12.$$\n",
    "Равенство выполняется.\n",
    "\n",
    "Берем $i=2$:\n",
    "$$x^2 : \\int\\limits_0^{1} x^2 dx=\\dfrac13 \\overset{?}{=}  A_0x_0^2 + A_1x_1^2+A_2x_2^2,$$\n",
    "Тогда $$\\dfrac13 \\overset{?}{=} A_0x_0^2 + A_1x_1^2+A_2x_2^2 = \\dfrac5{18}\\cdot(\\dfrac12-\\sqrt{\\dfrac35})^2 + \\dfrac49\\cdot(\\dfrac12)^2 + \\dfrac5{18}\\cdot(\\dfrac12+\\sqrt{\\dfrac35})^2 = \\dfrac7{12}.$$\n",
    "Равенство не выполняется.\n",
    "\n",
    "Таким образом, квадратурная формула имеет АСТ = 1."
   ]
  },
  {
   "cell_type": "markdown",
   "id": "0c892831-b102-42da-8809-a1a5a50e146b",
   "metadata": {
    "jp-MarkdownHeadingCollapsed": true
   },
   "source": [
    "# Задача 3"
   ]
  },
  {
   "cell_type": "markdown",
   "id": "58064f63-47db-4a6c-b81e-c041a8142818",
   "metadata": {},
   "source": [
    "Импортируем все необходимые для дальнейшей работы библиотеки"
   ]
  },
  {
   "cell_type": "code",
   "execution_count": 3,
   "id": "aa734e40-c0df-4cbb-8ed5-2cb088e84c04",
   "metadata": {
    "tags": []
   },
   "outputs": [],
   "source": [
    "import numpy as np\n",
    "import pandas as pd\n",
    "import math"
   ]
  },
  {
   "cell_type": "markdown",
   "id": "afa9235e-f547-47a7-86cc-9f76bc5be7bd",
   "metadata": {},
   "source": [
    "Сперва сравним кваратурные формулы правых прямоугольников и трапеций без использования правила Рунге на примере вычисления интеграла $$I = \\int\\limits_1^2 \\dfrac{e^x}{x+1} dx.$$\n",
    "\n",
    "Обозначим подынтегральную функцию $$f(x) = \\dfrac{e^x}{x+1}$$ и определим ее компьютерно"
   ]
  },
  {
   "cell_type": "code",
   "execution_count": 4,
   "id": "5978580b-6963-46cf-a69b-b2fb26beeaf3",
   "metadata": {
    "tags": []
   },
   "outputs": [],
   "source": [
    "a, b = 1, 2\n",
    "def f(x):\n",
    "    return np.exp(x) / (x + 1)"
   ]
  },
  {
   "cell_type": "markdown",
   "id": "1ec1f9a6-90b1-41c0-a8f8-88fc8d06ac3e",
   "metadata": {},
   "source": [
    "## Сравнение простейших квадратурных формул"
   ]
  },
  {
   "cell_type": "markdown",
   "id": "d453ab24-c9d7-456c-8b44-e8df122f6910",
   "metadata": {},
   "source": [
    "$\\bullet$ *Формула $$I_\\text{лп}(f) = (b-a)f(a) $$ называется **простейшей квадратурной формулой левых прямоугольников***.\n",
    "\n",
    "Реализуем программно метод, вычисляющий это значение при заданных параметрах $f(x), a, b$."
   ]
  },
  {
   "cell_type": "code",
   "execution_count": 5,
   "id": "43f70d93-7dd0-4ce3-b17a-2dbd0352976f",
   "metadata": {
    "tags": []
   },
   "outputs": [],
   "source": [
    "def simple_right_rectangles(f, a, b):\n",
    "    return (b - a) * f(a)"
   ]
  },
  {
   "cell_type": "code",
   "execution_count": 6,
   "id": "73eee0bd-a740-4eb5-86be-aaa42c42ce3a",
   "metadata": {
    "tags": []
   },
   "outputs": [
    {
     "data": {
      "text/plain": [
       "1.3591409142295225"
      ]
     },
     "execution_count": 6,
     "metadata": {},
     "output_type": "execute_result"
    }
   ],
   "source": [
    "simple_right_rectangles(f, 1, 2)"
   ]
  },
  {
   "cell_type": "markdown",
   "id": "f64d8b38-2e23-41c7-823c-9f9d6b19a9f2",
   "metadata": {},
   "source": [
    "$\\bullet$ *Формула $$R_\\text{лп}(f) = \\dfrac{(b-a)^2}{2}f'(\\eta),\\quad \\eta\\in [a,b]$$ определяет **остаток простейшей квадратурной формулы левых прямоугольников**.*\n",
    "\n",
    "С помощью этой формулы оценим погрешность квадратурной формулы как \n",
    "$$|R(f)| \\leq \\left| \\dfrac{(b-a)^2}{2}\\right| \\max_{x\\in [a,b]} |f'(x)|,$$\n",
    "причем $$f'(x) = \\dfrac{xe^x}{(x+1)^2}.$$\n",
    "Это значение можно грубо оценить как $$|f'(x)| \\leq \\left|\\dfrac{xe^x}{(x+1)^2}\\right| \\underset{x=2}{\\leq} 1.65.$$\n",
    "\n",
    "Тогда $$|R(f)|\\leq 0.825.$$\n",
    "\n",
    "Иначе с помощью компьютерных методов можно получить максимальное значение производной:"
   ]
  },
  {
   "cell_type": "code",
   "execution_count": 7,
   "id": "5f5336b5-eaa7-4d6f-a47c-22be12084303",
   "metadata": {
    "tags": []
   },
   "outputs": [
    {
     "data": {
      "text/plain": [
       "1.6420124664290334"
      ]
     },
     "execution_count": 7,
     "metadata": {},
     "output_type": "execute_result"
    }
   ],
   "source": [
    "def derivative_f(x):\n",
    "    return (x*np.exp(x)) / (x+1)**2\n",
    "\n",
    "M_1 = np.max(np.absolute(derivative_f(np.linspace(1, 2, 10000))))\n",
    "M_1"
   ]
  },
  {
   "cell_type": "markdown",
   "id": "0dc6023d-0880-4ff3-8233-635b3772d73f",
   "metadata": {},
   "source": [
    "Тогда оценка для остатка:"
   ]
  },
  {
   "cell_type": "code",
   "execution_count": 8,
   "id": "a834ea21-630d-4004-8e5b-180d8c16496b",
   "metadata": {
    "tags": []
   },
   "outputs": [
    {
     "data": {
      "text/plain": [
       "0.8210062332145167"
      ]
     },
     "execution_count": 8,
     "metadata": {},
     "output_type": "execute_result"
    }
   ],
   "source": [
    "abs((b - a) ** 2 / 2) * M_1"
   ]
  },
  {
   "cell_type": "markdown",
   "id": "24be9414-6c29-4aa3-b692-f086285c4398",
   "metadata": {},
   "source": [
    "Что является достаточно высокой погрешностью."
   ]
  },
  {
   "cell_type": "markdown",
   "id": "122115dd-6cf0-4687-9925-0431b5909904",
   "metadata": {},
   "source": [
    "$\\bullet$ *Формула $$I_\\text{симп} (f)= \\dfrac{b-a}{6}\\left(f(a) + 4 f(\\dfrac{a+b}2) + f(b)\\right)$$ называется **простейшей квадратурной формулой Симпсона.***\n",
    "\n",
    "Реализуем программно метод, вычисляющий это значение при заданных параметрах $f(x), a, b$."
   ]
  },
  {
   "cell_type": "code",
   "execution_count": 9,
   "id": "9e0280f7-dc1e-478a-80c1-5739c84a34da",
   "metadata": {
    "tags": []
   },
   "outputs": [],
   "source": [
    "def simple_simpson(f, a, b):\n",
    "    return (b - a) / 6 * (f(a) + 4*f((a+b)/2) + f(b))"
   ]
  },
  {
   "cell_type": "code",
   "execution_count": 10,
   "id": "c812270f-e22c-4328-b01a-8c5e703b1350",
   "metadata": {
    "tags": []
   },
   "outputs": [
    {
     "data": {
      "text/plain": [
       "1.8321436877356627"
      ]
     },
     "execution_count": 10,
     "metadata": {},
     "output_type": "execute_result"
    }
   ],
   "source": [
    "simple_simpson(f, 1, 2)"
   ]
  },
  {
   "cell_type": "markdown",
   "id": "cfc047b0-0316-4e30-bdb6-8deaa7075970",
   "metadata": {},
   "source": [
    "$\\bullet$ *Формула $$R_\\text{тп}(f) = -\\dfrac{(b-a)^5}{32}\\dfrac{f^{(4)}(\\eta)}{90}, \\quad \\eta\\in [a,b]$$ определяет **остаток простейшей квадратурной формулы Симпсона.***\n",
    "\n",
    "С помощью этой формулы оценим погрешность квадратурной формулы как \n",
    "$$|R(f)| \\leq \\left| \\dfrac{(b-a)^5}{32\\cdot90}\\right| \\max_{x\\in [a,b]} |f^{(4)}(x)|,$$\n",
    "причем $$f^{(4)}(x) = \\dfrac{\\left({x}^{4}+6\\,{x}^{2}-8\\,x+9\\right)\\,{e}^{x}}{{(x+1)^5}}.$$\n",
    "C помощью компьютерных методов можно получить максимальное значение производной:"
   ]
  },
  {
   "cell_type": "code",
   "execution_count": 11,
   "id": "815a6161-ac2a-495f-874e-d1b0dad0470f",
   "metadata": {
    "tags": []
   },
   "outputs": [
    {
     "data": {
      "text/plain": [
       "1.0034520628177426"
      ]
     },
     "execution_count": 11,
     "metadata": {},
     "output_type": "execute_result"
    }
   ],
   "source": [
    "def fourth_derivative_f(x):\n",
    "    return ((x**4+6*x**2-8*x+9)*np.exp(x))/(x+1)**5\n",
    "\n",
    "M_2 = np.max(np.absolute(fourth_derivative_f(np.linspace(1, 2, 10000))))\n",
    "M_2"
   ]
  },
  {
   "cell_type": "markdown",
   "id": "bbbc2454-e584-4c26-975c-e899ae69d750",
   "metadata": {
    "tags": []
   },
   "source": [
    "Тогда оценка погрешности:"
   ]
  },
  {
   "cell_type": "code",
   "execution_count": 12,
   "id": "f1644b20-564b-45a6-8c2f-2517369bda3f",
   "metadata": {
    "tags": []
   },
   "outputs": [
    {
     "data": {
      "text/plain": [
       "0.0003484208551450495"
      ]
     },
     "execution_count": 12,
     "metadata": {},
     "output_type": "execute_result"
    }
   ],
   "source": [
    "abs((b - a) ** 5 / (32*90)) * M_2"
   ]
  },
  {
   "cell_type": "markdown",
   "id": "f65d6aa9-efdc-4184-9906-a6cb70a9ca4f",
   "metadata": {},
   "source": [
    "Что является еще более низким значением, чем в предыдущем случае. \n",
    "\n",
    "Таким образом, более хорошая оценка (но все равно очень грубая) была получена с помощью метода Симпсона. Однако такой результат вычисления значения интеграла нас в любом случае не устраивает, поэтому перейдем к методу Рунге.\n",
    "\n",
    "Но сперва, используя те формулы, которые у нас есть, попробуем априорно оценить то, насколько частей нам нужно будет разбить отрезок интегрирования при применении правила Рунге с помощью формул:\n",
    "\n",
    "$$N_\\text{лс}\\geq \\dfrac{(b-a)^2}{2\\varepsilon}\\cdot M_1,\\quad M_1 = \\underset{x\\in[a,b]}{\\max}|f'(x)|,$$\n",
    "$$N_\\text{симп} \\geq \\sqrt[4]{\\dfrac{(b-a)^5}{2880\\varepsilon}M_2},\\quad M_2 = \\underset{x\\in[a,b]}{\\max}|f^{(4)}(x)|.$$\n",
    "\n",
    "Посмотрим, чему будут равны эти значения при $\\varepsilon = 10^{-3}$:"
   ]
  },
  {
   "cell_type": "code",
   "execution_count": 13,
   "id": "ed56aa06-f654-4543-8282-928563d62dfc",
   "metadata": {
    "tags": []
   },
   "outputs": [],
   "source": [
    "epsilon = 1e-3\n",
    "N_1 = (b - a) ** 2 / (2 * epsilon) * M_1\n",
    "N_2 = math.sqrt(math.sqrt((b - a) ** 5 / (2880 * epsilon) * M_2))"
   ]
  },
  {
   "cell_type": "code",
   "execution_count": 14,
   "id": "5cfd366a-378d-414b-aab7-a12896e466d9",
   "metadata": {
    "tags": []
   },
   "outputs": [
    {
     "data": {
      "text/plain": [
       "821.0062332145167"
      ]
     },
     "execution_count": 14,
     "metadata": {},
     "output_type": "execute_result"
    }
   ],
   "source": [
    "N_1"
   ]
  },
  {
   "cell_type": "code",
   "execution_count": 15,
   "id": "aba5ee63-0f62-43af-8fc8-c78dcdc66a1c",
   "metadata": {
    "tags": []
   },
   "outputs": [
    {
     "data": {
      "text/plain": [
       "0.7682915127159656"
      ]
     },
     "execution_count": 15,
     "metadata": {},
     "output_type": "execute_result"
    }
   ],
   "source": [
    "N_2"
   ]
  },
  {
   "cell_type": "markdown",
   "id": "5f0565fb-3601-419f-8d0d-54e37698b464",
   "metadata": {},
   "source": [
    "При формуле правых прямоугольников мы получили достаточно большое значение для числа разбиений, при формуле трапеций сильно меньше. Теперь смоделируем вычисление интеграла по правилу Рунге и проверим, такие ли получатся разбиения."
   ]
  },
  {
   "cell_type": "markdown",
   "id": "1dc62531-ec78-4cdf-903f-f45beea5a512",
   "metadata": {},
   "source": [
    "## Правило Рунге\n",
    "Пусть имеет место разложение остатка составной квадратурной формулы $$R(h,f) = c h^m + o(h^{m+1}),\\quad c = \\operatorname{const}.$$\n",
    "Обозначим точное значение интеграла через $I$, а через $I_h$ --- приближенное значение соответствующее составной квадратурной формуле с шагом $h$. По предположению $$I = I_h + ch^m + O(h^{m+1})\\approx I_h + ch^m.$$\n",
    "Применим составную квадратурную формулу при разных параметрах: возьмем два значения $h_1$ и $h_2$ и найдем $I_{h_1}, I_{h_2}$. Тогда $$\\begin{cases}\n",
    "I\\approx I_{h_1} + c\\cdot h_1^m,\\\\\n",
    "I\\approx I_{h_2} + c\\cdot h_2^m.\n",
    "\\end{cases}$$\n",
    "Отсюда легко найти главную часть погрешности равную $$R(h,f)\\approx \\dfrac{I_{h_2}-I_{h_1}}{h_1^m - h_2^m}h_1^m = \\dfrac{I_{h_2}-I_{h_1}}{1 - \\left(\\frac{h_2}{h_1}\\right)^m}.$$\n",
    "Эта формула дает выражение для главной части остатка квадратурной формулы. Таким образом, мы можем указать алгоритм апостериорной оценки: мы подбираем шаги $h_1$ и $h_2$ таким образом, чтобы $$|R(h,f)|\\leq \\varepsilon,$$ тогда интеграл будет считаться вычисленным с заданной точностью.\n",
    "     \n",
    "Вычисленная величина главной части остатка позволяет уточнить приближенное значение интеграла $$I\\approx I_{h_1} + \\dfrac{I_{h_2}-I_{h_1}}{1 - \\left(\\frac{h_2}{h_1}\\right)^m}.$$\n",
    "Таким образом, мы повысим точность.\n",
    "\n",
    "При проведении расчетов обычно вычисляются интегралы с выбранным шагом $h_1$ и шагом $h_2 = \\dfrac{h_1}2$. Такой способ задания изменения параметров позволяет учесть уже сделанные вычисления и таким образом оптимизировать процесс вычисления интеграла с точки зрения арифметических операций."
   ]
  },
  {
   "cell_type": "markdown",
   "id": "deee666f-b486-4adf-a612-0edd81a4407c",
   "metadata": {},
   "source": [
    "Теперь весь описанный алгоритм реализуем компьютерно. Причем в начале выбирем $h_1 = b-a$, а $h_2 = \\dfrac{h_1}{2}$. \n",
    "\n",
    "Построенная компьютерная функция приниамет на вход следующие параметры:\n",
    "\n",
    "- $m$ -- алгебраическая степень точности метода;\n",
    "\n",
    "- compound_quadrature_formula -- составная квадратурная формула, которую алгоритм будет использовать для вычислений интеграла;\n",
    "\n",
    "- $f(x)$ -- подынтегральная функция;\n",
    "\n",
    "- $a, b$ -- концы отрезка интегрирования;\n",
    "\n",
    "- $\\varepsilon$ -- точность, с которой должен быть вычислен интеграл;\n",
    "\n",
    "- $N_{divisions} \\in \\{0,1\\}$ -- переменная, которая отвечает за то, чтобы возвращать или не возвращать число делений отрезка проделанных алгоритмом. "
   ]
  },
  {
   "cell_type": "code",
   "execution_count": 16,
   "id": "8e44eb26-250f-4545-9267-a8e7d6608f27",
   "metadata": {
    "tags": []
   },
   "outputs": [],
   "source": [
    "def runge_rule(m, compound_quadrature_formula, f, a, b, epsilon, N_divisions=False):\n",
    "    h_1 = b-a\n",
    "    h_2 = h_1 / 2\n",
    "    iterations = 1\n",
    "    I_h1 = compound_quadrature_formula(f, a, b, h_1)\n",
    "    I_h2 = compound_quadrature_formula(f, a, b, h_2)\n",
    "    R = (I_h2 - I_h1) / (1 - (h_2/h_1)**m)\n",
    "    I = I_h1 + R\n",
    "    while abs(R) >= epsilon:\n",
    "        h_1 = h_2\n",
    "        h_2 = h_1 / 2\n",
    "        I_h1 = compound_quadrature_formula(f, a, b, h_1)\n",
    "        I_h2 = compound_quadrature_formula(f, a, b, h_2)\n",
    "        R = (I_h2 - I_h1) / (1 - (h_2/h_1)**m)\n",
    "        I = I_h1 + R\n",
    "        iterations += 1\n",
    "    if N_divisions:\n",
    "        return I, iterations\n",
    "    return I"
   ]
  },
  {
   "cell_type": "markdown",
   "id": "dd8d7b98-36d4-44b1-8587-2c63351c91bd",
   "metadata": {},
   "source": [
    "## Сравнение составных квадратурных формул"
   ]
  },
  {
   "cell_type": "markdown",
   "id": "14733203-056c-4596-bf94-87ff80ef7554",
   "metadata": {},
   "source": [
    "Теперь определим составные квадратурные формулы, которые мы будем использовать для вычисления.\n",
    "\n",
    "\n",
    "$\\bullet$ *Формула $$I_\\text{лс}(f) = h\\sum_{k=0}^{N-1}f(x_{k}) = h\\sum_{k=0}^{N-1}f(a+kh)$$ называется **составной квадратурной формулой левых прямоугольников**.*\n",
    "\n",
    "Она имеет алгебраическую степень точности равную 1.\n",
    "\n",
    "Реализуем программно метод, вычисляющий эту сумму при заданных параметрах $f(x), a, b, h$."
   ]
  },
  {
   "cell_type": "code",
   "execution_count": 17,
   "id": "390d60bf-e080-41b7-86e5-d6b018f05227",
   "metadata": {
    "tags": []
   },
   "outputs": [],
   "source": [
    "def left_rectangles(f, a, b, h):\n",
    "    I = 0\n",
    "    N = int((b-a)/h)\n",
    "    for k in range(N):\n",
    "        I += f(a + k*h)\n",
    "    I *= h\n",
    "    return I"
   ]
  },
  {
   "cell_type": "markdown",
   "id": "a7ddefde-9a06-4c3f-b97c-e8d28bb64f4b",
   "metadata": {},
   "source": [
    "$\\bullet$ *Формула $$I_\\text{тс}(f) = \\dfrac{h}{3}(f_0+f_N+2(f_2+f_4+\\dots+f_{N-2})+4(f_1+f_3+\\dots+f_{N-1})), \\quad f_i=f(x_i)$$ называется **составной квадратурной формулой Симпсона**.*\n",
    "\n",
    "Реализуем программно метод, вычисляющий эту сумму при заданных параметрах $f(x), a, b, h$."
   ]
  },
  {
   "cell_type": "code",
   "execution_count": 18,
   "id": "38282032-24dc-4cb0-bc92-5118274e552b",
   "metadata": {
    "tags": []
   },
   "outputs": [],
   "source": [
    "def simps(f, a, b, h):\n",
    "    I = f(a) + f(b)\n",
    "    N = int((b-a)/h)\n",
    "    x_k = a\n",
    "    for k in range(2,N, 2):\n",
    "        I += 2*f(a + k * h)\n",
    "    for k in range(1,N, 2):\n",
    "        I += 4*f(a + k * h)\n",
    "    I *= h/3\n",
    "    return I"
   ]
  },
  {
   "cell_type": "markdown",
   "id": "b64541ab-5533-4389-b360-4feef73be874",
   "metadata": {},
   "source": [
    "Итак, задавая обеим формулам одни и те же значения точности $\\varepsilon$, мы можем сравнивать для них скорость число делений отрезка $[a,b]$ и время работы алгоритма для каждой из формул.\n",
    "\n",
    "Возьмем $\\varepsilon = 10^{-3}$:"
   ]
  },
  {
   "cell_type": "code",
   "execution_count": 19,
   "id": "55dccfd3-2552-4baf-a45b-32a9b079e8ad",
   "metadata": {
    "tags": []
   },
   "outputs": [],
   "source": [
    "eps = 1e-3"
   ]
  },
  {
   "cell_type": "code",
   "execution_count": 20,
   "id": "63973243-ea7a-41df-80c4-585fce808ab6",
   "metadata": {
    "tags": []
   },
   "outputs": [
    {
     "name": "stdout",
     "output_type": "stream",
     "text": [
      "CPU times: total: 0 ns\n",
      "Wall time: 6 ms\n"
     ]
    },
    {
     "data": {
      "text/plain": [
       "(1.831891770210002, 11)"
      ]
     },
     "execution_count": 20,
     "metadata": {},
     "output_type": "execute_result"
    }
   ],
   "source": [
    "%%time\n",
    "runge_rule(1, left_rectangles, f, 1, 2, eps, True)"
   ]
  },
  {
   "cell_type": "code",
   "execution_count": 21,
   "id": "99de4484-4cff-446b-bd62-ff71e76f574c",
   "metadata": {
    "tags": []
   },
   "outputs": [
    {
     "name": "stdout",
     "output_type": "stream",
     "text": [
      "CPU times: total: 0 ns\n",
      "Wall time: 0 ns\n"
     ]
    },
    {
     "data": {
      "text/plain": [
       "(1.8318294576260676, 2)"
      ]
     },
     "execution_count": 21,
     "metadata": {},
     "output_type": "execute_result"
    }
   ],
   "source": [
    "%%time\n",
    "runge_rule(2, simps, f, 1, 2, eps, True)"
   ]
  },
  {
   "cell_type": "markdown",
   "id": "4a8d4a66-0fde-469f-927f-2a7b0ec08b9b",
   "metadata": {},
   "source": [
    "Оба алгоритма отработали достаточно быстро. Алгоритм Симпсона проделал меньше делений отрезка.\n",
    "\n",
    "Причем заметим, что число разбиений отрезка между методами отличается на 9 единиц. К тому же значение алгоритма левых прямоугольников сильно меньше того, которое мы вычислили априорно."
   ]
  },
  {
   "cell_type": "markdown",
   "id": "08c1277c-9beb-4a19-8f92-88720f70cbc0",
   "metadata": {
    "tags": []
   },
   "source": [
    "Возьмем $\\varepsilon = 10^{-4}$:"
   ]
  },
  {
   "cell_type": "code",
   "execution_count": 22,
   "id": "f90f4e20-6aa5-4168-9722-44eea70fbc36",
   "metadata": {
    "tags": []
   },
   "outputs": [],
   "source": [
    "eps = 1e-4"
   ]
  },
  {
   "cell_type": "code",
   "execution_count": 23,
   "id": "0969a295-7dcc-4ccc-8694-39e50f439ce6",
   "metadata": {
    "tags": []
   },
   "outputs": [
    {
     "name": "stdout",
     "output_type": "stream",
     "text": [
      "CPU times: total: 62.5 ms\n",
      "Wall time: 53 ms\n"
     ]
    },
    {
     "data": {
      "text/plain": [
       "(1.8318918078564406, 14)"
      ]
     },
     "execution_count": 23,
     "metadata": {},
     "output_type": "execute_result"
    }
   ],
   "source": [
    "%%time\n",
    "runge_rule(1, left_rectangles, f, 1, 2, eps, True)"
   ]
  },
  {
   "cell_type": "code",
   "execution_count": 24,
   "id": "7eeefd5b-c276-4fdc-a1dc-2ac6a20385b9",
   "metadata": {
    "tags": []
   },
   "outputs": [
    {
     "name": "stdout",
     "output_type": "stream",
     "text": [
      "CPU times: total: 0 ns\n",
      "Wall time: 0 ns\n"
     ]
    },
    {
     "data": {
      "text/plain": [
       "(1.8318877676375942, 3)"
      ]
     },
     "execution_count": 24,
     "metadata": {},
     "output_type": "execute_result"
    }
   ],
   "source": [
    "%%time\n",
    "runge_rule(2, simps, f, 1, 2, eps, True)"
   ]
  },
  {
   "cell_type": "markdown",
   "id": "4cf40182-4caf-456e-a472-c1bf5299ba28",
   "metadata": {},
   "source": [
    "Алгоритм с методом левых прямоугольников отработал медленнее, чем с Симпсоном. Также алгоритм левых прямоугольников проделал больше делений отрезка.\n",
    "\n",
    "Возьмем $\\varepsilon = 10^{-5}$:"
   ]
  },
  {
   "cell_type": "code",
   "execution_count": 25,
   "id": "1c33a61a-c890-4917-b1bc-503c3e4d3210",
   "metadata": {
    "tags": []
   },
   "outputs": [],
   "source": [
    "eps = 1e-5"
   ]
  },
  {
   "cell_type": "code",
   "execution_count": 26,
   "id": "d728cd49-abfd-4d02-8a76-34175bf47506",
   "metadata": {
    "tags": []
   },
   "outputs": [
    {
     "name": "stdout",
     "output_type": "stream",
     "text": [
      "CPU times: total: 406 ms\n",
      "Wall time: 418 ms\n"
     ]
    },
    {
     "data": {
      "text/plain": [
       "(1.8318918084446687, 17)"
      ]
     },
     "execution_count": 26,
     "metadata": {},
     "output_type": "execute_result"
    }
   ],
   "source": [
    "%%time\n",
    "runge_rule(1, left_rectangles, f, 1, 2, eps, True)"
   ]
  },
  {
   "cell_type": "code",
   "execution_count": 27,
   "id": "783b6395-8c99-4a58-a371-71894b17cd80",
   "metadata": {
    "tags": []
   },
   "outputs": [
    {
     "name": "stdout",
     "output_type": "stream",
     "text": [
      "CPU times: total: 0 ns\n",
      "Wall time: 0 ns\n"
     ]
    },
    {
     "data": {
      "text/plain": [
       "(1.8318915533643054, 4)"
      ]
     },
     "execution_count": 27,
     "metadata": {},
     "output_type": "execute_result"
    }
   ],
   "source": [
    "%%time\n",
    "runge_rule(2, simps, f, 1, 2, eps, True)"
   ]
  },
  {
   "cell_type": "markdown",
   "id": "ef211e6d-320c-4675-b8f7-34e2d75b9ee8",
   "metadata": {},
   "source": [
    "Алгоритм с методом левых прямоугольников снова показал себя медленнее. Деление отрезка интегрирования между методами отличается на 13 единиц.\n",
    "\n",
    "Возьмем $\\varepsilon = 10^{-6}$:"
   ]
  },
  {
   "cell_type": "code",
   "execution_count": 28,
   "id": "0aa6fff3-9cf1-4c01-8356-410fef0b07c1",
   "metadata": {
    "tags": []
   },
   "outputs": [],
   "source": [
    "eps = 1e-6"
   ]
  },
  {
   "cell_type": "code",
   "execution_count": 29,
   "id": "0c4435f9-a9c9-48dd-8a86-7603cb8dc7a8",
   "metadata": {
    "tags": []
   },
   "outputs": [
    {
     "name": "stdout",
     "output_type": "stream",
     "text": [
      "CPU times: total: 6.72 s\n",
      "Wall time: 6.7 s\n"
     ]
    },
    {
     "data": {
      "text/plain": [
       "(1.831891808454127, 21)"
      ]
     },
     "execution_count": 29,
     "metadata": {},
     "output_type": "execute_result"
    }
   ],
   "source": [
    "%%time\n",
    "runge_rule(1, left_rectangles, f, 1, 2, eps, True)"
   ]
  },
  {
   "cell_type": "code",
   "execution_count": 30,
   "id": "facf7fd0-150b-4be8-8d39-b0b9798e9d14",
   "metadata": {
    "tags": []
   },
   "outputs": [
    {
     "name": "stdout",
     "output_type": "stream",
     "text": [
      "CPU times: total: 0 ns\n",
      "Wall time: 500 µs\n"
     ]
    },
    {
     "data": {
      "text/plain": [
       "(1.8318917924697014, 5)"
      ]
     },
     "execution_count": 30,
     "metadata": {},
     "output_type": "execute_result"
    }
   ],
   "source": [
    "%%time\n",
    "runge_rule(2, simps, f, 1, 2, eps, True)"
   ]
  },
  {
   "cell_type": "markdown",
   "id": "ab15b27a-bbe4-45d5-985b-9bc1bc30ed5f",
   "metadata": {},
   "source": [
    "Можно заметить, что только метод левых прямоугольников стал работать гораздо медленее (от 6 секунд). Также метод Симпсона оказался сильно быстрее метода левых прямоугольников. Разбиение отрезка отличается уже на 16.\n",
    "\n",
    "Возьмем $\\varepsilon = 10^{-7}$:"
   ]
  },
  {
   "cell_type": "code",
   "execution_count": 31,
   "id": "3ffd42d7-49c4-4ba9-90be-7158bc02e866",
   "metadata": {
    "tags": []
   },
   "outputs": [],
   "source": [
    "eps = 1e-7"
   ]
  },
  {
   "cell_type": "code",
   "execution_count": 32,
   "id": "3433aa8a-1f2a-4232-992f-8b396aa2ca77",
   "metadata": {
    "tags": []
   },
   "outputs": [
    {
     "name": "stdout",
     "output_type": "stream",
     "text": [
      "CPU times: total: 56.1 s\n",
      "Wall time: 56.2 s\n"
     ]
    },
    {
     "data": {
      "text/plain": [
       "(1.8318918084532716, 24)"
      ]
     },
     "execution_count": 32,
     "metadata": {},
     "output_type": "execute_result"
    }
   ],
   "source": [
    "%%time\n",
    "runge_rule(1, left_rectangles, f, 1, 2, eps, True)"
   ]
  },
  {
   "cell_type": "code",
   "execution_count": 33,
   "id": "a5e15aac-2684-4ded-86b1-262ea55a31d1",
   "metadata": {
    "tags": []
   },
   "outputs": [
    {
     "name": "stdout",
     "output_type": "stream",
     "text": [
      "CPU times: total: 0 ns\n",
      "Wall time: 0 ns\n"
     ]
    },
    {
     "data": {
      "text/plain": [
       "(1.8318917924697014, 5)"
      ]
     },
     "execution_count": 33,
     "metadata": {},
     "output_type": "execute_result"
    }
   ],
   "source": [
    "%%time\n",
    "runge_rule(2, simps, f, 1, 2, eps, True)"
   ]
  },
  {
   "cell_type": "markdown",
   "id": "6018e7af-60fe-4742-b7dc-3bcbc442e1f4",
   "metadata": {},
   "source": [
    "Таким образом, по результатам тестирования можно считать, что алгоритм Рунге с использованием метода левых прямоугольников оказался хуже алгоритма, использующего метод Симпсона, по крайней мере по скорости работы. Причем заметно, что чем выше точность, тем более явно проявляется тенденция, что алгоритм с методом левых прямоугольников работает медленнее алгоритма с методом Симпсона."
   ]
  },
  {
   "cell_type": "markdown",
   "id": "5a0177b2-28dd-44b4-8e40-919b339ed3ce",
   "metadata": {
    "tags": []
   },
   "source": [
    "# Задача 4"
   ]
  },
  {
   "attachments": {},
   "cell_type": "markdown",
   "id": "cdd5a04e-d344-466d-affe-95c5830e059c",
   "metadata": {},
   "source": [
    "Имеем интеграл $$I = \\int\\limits_0^5 e^{-x^2+x} dx$$\n",
    "и точность $\\varepsilon = 10^{-4}$. Для вычисления значения интеграла воспользуемся квадратурными формулами наивысшей алгебраической степени точности, или квадратурные формулы типа Гаусса.\n",
    "\n",
    "Но без дополнительных преобразований применить к вычислению данного интеграла квадратурные формулы типа Гаусса невозможно. Из теории квадратур следует, что для применения формул Гаусса или Эрмита в случае произвольного отрезка $[a,b]$ необходимо использовать линейное преобразование $$x = \\dfrac{b-a}{2}t + \\dfrac{a+b}{2},\\quad t \\in [-1,1].$$\n",
    "Тогда $x$ будет изменяться на отрезке $[a,b]$. Остаток квадратурной формулы для промежутка $[a,b]$ выражается через остаток на отрезке $[-1,1]$ следующим образом: $$R_n(f) = \\left(\\dfrac{b-a}{2}\\right)^{2n+3}R_n(f).$$\n",
    "\n",
    "Таким образом, в нашем случае применима замена вида\n",
    "$$x = 2.5t + 2.5,\\quad t \\in [-1,1].$$\n",
    "Отсюда $$t = \\dfrac{x}{2.5}-1=0.4x-1, \\quad x \\in [0,5].$$\n",
    "Подставим эту замену в рассматриваемый интеграл и получим $$I = \\dfrac{b-a}2\\int\\limits_{-1}^1e^{-6.75t^2-10t-3.75}dt.$$\n",
    "\n",
    "$\\bullet$ Формула $$I(f) = \\dfrac{b-a}2\\int\\limits_{-1}^1f(x)dx \\approx \\dfrac{b-a}2\\sum_{k=0}^{n}A_k f(x_k)$$\n",
    "Системой многочленов ортогональных по весу $p(x)=1$ на отрезке [-1, 1] является система многочленов Лежандра:\n",
    "$$P_n(x)=\\dfrac1{2^nn!}\\cdot\\dfrac{d^n}{dx^n}(x^2-1)^n.$$\n",
    "\n",
    "с узлами $x_k$, которые являются корнями $$P_{n+1}(x)=0$$ и коэффициентами $$A_k = \\dfrac2{(1-x_k)^2\\left[P'_{n+1}(x_k)\\right]^2},\\quad k=\\overline{0,n}$$ и называется __квадратурной формулой Гаусса__.\n",
    "\n",
    "Можно получить выражение для остатка этой формулы $$R_n(f) = \\dfrac{2^{2n+3}}{(2n+3)(2n+2)!}\\left[\\dfrac{(n+1)!^2}{(2n+2)!}\\right]^2\\cdot f^{(2n+2)}(\\eta),\\quad \\eta\\in [-1,1].$$\n",
    "\n",
    "Причем $f(x) = e^{-6.75x^2-10x-3.75}$. В итоге для конкретно нашего случая квадратурная формула выглядит следующим образом:\n",
    "$$I(f) = \\dfrac{b-a}2\\int\\limits_{-1}^1f(x)dx \\approx  2.5\\sum_{k=0}^{n}A_k e^{-6.75x_k^2-10x_k-3.75}.$$\n",
    "\n",
    "C учетом сделанной замены остаток выражается как $$R_n(f) = \\left(\\dfrac{b-a}{2}\\right)^{2n+3}R_n(f) = 2.5^{2n+3}R_n(f) =\\dfrac{5^{2n+3}}{(2n+3)(2n+2)}\\left[\\dfrac{(n+1)!^2}{(2n+2)!}\\right]^2\\cdot f^{(2n+2)}(\\eta),\\quad \\eta\\in [-1,1].$$\n",
    "\n",
    "Но нам нужно еще оценить это значение:\n",
    "$$|R_n(f)| \\leq \\left|\\dfrac{5^{2n+3}}{(2n+3)(2n+2)}\\left[\\dfrac{(n+1)!^2}{(2n+2)!}\\right]^2\\cdot f^{(2n+2)}(\\eta)\\right| \\leq M\\cdot \\left|\\dfrac{5^{2n+3}}{(2n+3)(2n+2)}\\left[\\dfrac{(n+1)!^2}{(2n+2)!}\\right]^2\\right|,\\quad \\eta\\in [-1,1],$$\n",
    "где $$M = \\max_{\\eta \\in [-1,1]}|f^{(2n+2)}(\\eta)| = \\max_{\\eta \\in [-1,1]}|( e^{-6.75\\eta^2-10\\eta-3.75}\\sqrt{1-\\eta^2})^{(2n+2)}|.$$\n",
    "\n",
    "Аналитически рассчитывать это значение будет сложно. Поэтому предлагается использовать в качестве аналога для значения погрешности значение $$\\Delta = |I(f, n) - I(f, n-1)| < \\varepsilon.$$ То есть погрешность мы будем оценивать как разность приближенных значений интеграла при $n$ и $n-1$ узлах.\n",
    "\n",
    "Таким образом, нам остается лишь реализовать программно процесс вычисления интеграла по формуле (1), оценивая погрешность по формуле (2). Но нам не задано количество узлов $n$, поэтому, перебирая $n=1,2,\\ldots$, мы будем оценивать прогрешность вычисления интеграла на каждой итерации. Перебор будем производить до тех пор, пока не достигнем заданной точности."
   ]
  },
  {
   "cell_type": "markdown",
   "id": "a851df26-2dcd-4733-a6b6-8da2114bb5ab",
   "metadata": {},
   "source": [
    "Реализуем компьютерный алгоритм, который принимает на вход функцию $f(x)$ и точность $\\varepsilon$ и возвращает приближенное значение интеграла и число узлов, которое понадобилось для достижения заданной точности."
   ]
  },
  {
   "cell_type": "code",
   "execution_count": 34,
   "id": "bbfb1c65-1115-4a05-b44d-61717fb6198f",
   "metadata": {
    "tags": []
   },
   "outputs": [],
   "source": [
    "import cmath\n",
    "epsilon = 10e-4\n",
    "\n",
    "def f(x):\n",
    "    return cmath.exp(-6.75*x**2-10*x-3.75)"
   ]
  },
  {
   "cell_type": "code",
   "execution_count": 35,
   "id": "bc1cc68f-f8a7-4033-b5c2-2e799acf0ad0",
   "metadata": {},
   "outputs": [],
   "source": [
    "import sympy as sp\n",
    "import numpy as np\n",
    "import math\n",
    "\n",
    "def P(n):\n",
    "    y = sp.Symbol('y')\n",
    "    pol = (1/((2**n)*math.factorial(n)))*sp.diff((y**2-1)**n, y, n)\n",
    "    return pol\n",
    "\n",
    "def subs(x, pol):\n",
    "    y = sp.Symbol('y')\n",
    "    return pol.subs(y, x)\n",
    "\n",
    "def find_roots(pol):\n",
    "    y = sp.Symbol('y')\n",
    "    pol=sp.simplify(pol)\n",
    "    roots = sp.solve(pol, y)\n",
    "    return roots"
   ]
  },
  {
   "cell_type": "code",
   "execution_count": 36,
   "id": "f3814cb6-0a0a-4bb6-8634-17a7e687fd11",
   "metadata": {},
   "outputs": [],
   "source": [
    "def create_matrix(x):\n",
    "    matrix = np.zeros((len(x), len(x)+1), dtype=np.complex128)\n",
    "\n",
    "    for i in range(len(x)):\n",
    "        for j in range(len(x)):\n",
    "            matrix[i, j] = x[j] ** i\n",
    "        if i % 2 != 0:\n",
    "            matrix[i, len(x)] = 0\n",
    "        else:\n",
    "            matrix[i, len(x)] = 2 / (i + 1)\n",
    "    return np.linalg.solve(matrix[:, :-1], matrix[:, -1])"
   ]
  },
  {
   "cell_type": "code",
   "execution_count": 37,
   "id": "cdfe057d-4a76-45bb-a506-00ceefdea472",
   "metadata": {
    "tags": []
   },
   "outputs": [],
   "source": [
    "def gauss_quadrature_formula(f, epsilon):\n",
    "    y = sp.Symbol('y')\n",
    "    n = 1\n",
    "    I_new = np.inf\n",
    "    I_last = 0\n",
    "    while abs(I_new - I_last) >= epsilon:\n",
    "        I_last = I_new\n",
    "        I_new = 0\n",
    "        pol=P(n)\n",
    "        def_pol=sp.diff(pol, y, 1)\n",
    "        arr_x=find_roots(pol)\n",
    "        roots = create_matrix(arr_x)\n",
    "        for i in range(len(arr_x)):\n",
    "            I_new+=roots[i]*f(arr_x[i])\n",
    "        I_new*=2.5\n",
    "        n += 1\n",
    "    return I_new, n-1"
   ]
  },
  {
   "cell_type": "code",
   "execution_count": 38,
   "id": "725ae010-ecb8-48fb-be4f-f16ef317e58e",
   "metadata": {},
   "outputs": [
    {
     "name": "stdout",
     "output_type": "stream",
     "text": [
      "(1.7302344334799634, 7)\n"
     ]
    }
   ],
   "source": [
    "gauss_quadrature_formula(f, epsilon)"
   ]
  },
  {
   "cell_type": "markdown",
   "id": "c6ac8b0d-6749-4915-b552-c75b5a59b192",
   "metadata": {},
   "source": [
    "Таким образом, мы вычислили приближенное значение интеграла, и оно равно $$I \\approx 1.7302.$$ Для этого нам понадобилось выбрать на отрезке $n=7$ узлов."
   ]
  },
  {
   "cell_type": "markdown",
   "id": "aaccc534-27db-4f2f-8dc2-d74cc3a43fd6",
   "metadata": {
    "tags": []
   },
   "source": [
    "# Задача 5"
   ]
  },
  {
   "cell_type": "markdown",
   "id": "696a7ad4-a8fc-4f0b-ab27-2f83cb74414a",
   "metadata": {},
   "source": [
    "По условию нам дано уравнение $$\\dfrac1{\\sqrt{2\\pi}}\\int\\limits_0^x e^{-t^2}dt = 0.3.$$\n",
    "Введем обозначение $$f(x) = \\dfrac1{\\sqrt{2\\pi}}\\int\\limits_0^x e^{-t^2}dt - 0.3$$\n",
    "Тогда поставленная задача сводится к отысканию решения нелинейного уравнения $$f(x) = 0.$$\n",
    "Решением подобного рода задач мы занимались ранее, поэтому все подробные выкладки из теории, касающиеся нелинейных уравнений, теперь будут опускаться."
   ]
  },
  {
   "cell_type": "markdown",
   "id": "c4df34df-c040-4506-ae84-4525cea60589",
   "metadata": {
    "tags": []
   },
   "source": [
    "## Отделение корня"
   ]
  },
  {
   "cell_type": "markdown",
   "id": "920e59ad-788c-4f48-811a-38a51b4f3cdd",
   "metadata": {},
   "source": [
    "Прежде чем находить приближенное значение корня, нам необходимо провести процедуру отделения корня. Вспомним, что на отрезке $[a,b]$ существует единственный корень уравнения $f(x) = 0$, если\n",
    "\n",
    "- функция $f(x)$ на концах отрезка имеет разные по знаку значения;\n",
    "\n",
    "- функция $f(x)$ на отрезке монотонна.\n",
    "\n",
    "### Монотонность функции\n",
    "Начнем со второго пункта, так как его можно быстро обосновать. Рассмотрим производную функции $$f'(x) = \\dfrac1{\\sqrt{2\\pi}}e^{-x^2}$$ как производная интеграла с переменным верхним пределом (по теореме Барроу). Функция $f'(x)$ состоит из функции $e^{-x^2}$, которая, в свою очередь, является строго положительной на множестве $[0, +\\infty)$. Тогда $$f'(x) > 0,\\quad x \\in [0, +\\infty),$$\n",
    "а значит исходная функция монотонна на этом множестве.\n",
    "\n",
    "Перейдем к первому пункту. Чтобы определять знак значения функции $f(x)$ в точке, нам необходимо вычислять интеграл, который присутствует в функции. Поэтому далее мы отдельно рассмотрим алгоритм вычисления подобных интегралов."
   ]
  },
  {
   "cell_type": "markdown",
   "id": "5842bad7-5503-453e-a95b-5a7a947c0b8d",
   "metadata": {},
   "source": [
    "### Приближенное вычисление интеграла $\\int\\limits_0^x e^{-t^2}dt$"
   ]
  },
  {
   "cell_type": "markdown",
   "id": "f5dd976f-2e2c-4c64-9049-cf6b60562bd6",
   "metadata": {},
   "source": [
    "Сперва определим метод для вычисления значения подынтегральной функции $g(t) = e^{-t^2}$:"
   ]
  },
  {
   "cell_type": "code",
   "execution_count": 39,
   "id": "23e5e644-3060-4cb6-9b4c-0c40ed81283e",
   "metadata": {
    "tags": []
   },
   "outputs": [],
   "source": [
    "def g(t):\n",
    "    return np.e**(-t**2)"
   ]
  },
  {
   "cell_type": "markdown",
   "id": "d9a67e77-a206-4052-9b67-f12d8814e909",
   "metadata": {},
   "source": [
    "Для вычисления интеграла при заданной точности воспользуемся правилом Рунге для составных формул средних прямоугольников и Симпсона (поскольку они не были реализованы в предыдущих заданиях) и сравним по времени: какая из формул быстрее будет вычислять значение интеграла, такую и будем дальше применять.\n",
    "\n",
    "$\\bullet$ *Формула $$I_\\text{сс}(f) = h\\sum_{k=0}^{N-1}f\\left(\\dfrac{x_k+x_{k+1}}{2}\\right) = h\\sum_{k=0}^{N-1}f\\left(a+\\left(k+\\dfrac12\\right)h\\right)$$ называется **составной квадратурной формулой средних прямоугольников**.\n",
    "\n",
    "Реализуем программно метод, вычисляющий сумму при заданных параметрах $f(x), a, b, h$."
   ]
  },
  {
   "cell_type": "code",
   "execution_count": 40,
   "id": "65b52379-e313-41b1-a4d8-254564a333d1",
   "metadata": {
    "tags": []
   },
   "outputs": [],
   "source": [
    "def avg_rectangles(f, a, b, h):\n",
    "    I = 0\n",
    "    N = int((b-a)/h)\n",
    "    for k in range(N):\n",
    "        I += f(a + (k+1/2)*h)\n",
    "    I *= h\n",
    "    return I"
   ]
  },
  {
   "cell_type": "markdown",
   "id": "35bda64c-3e42-4447-9a1c-f444dbd38b3a",
   "metadata": {},
   "source": [
    "$\\bullet$ *Формула $$I_\\text{симп с}(f) = \\dfrac{h}{3}\\big(f_0 + f_N + 2(f_2 + f_4 + \\ldots + f_{N-2}) + 4(f_1 + f_3 + \\ldots + f_{N-1})\\big),\\quad f_i = f(x_i)$$ называется **составной квадратурной формулой Симпсона**.*\n",
    "\n",
    "Реализуем программно метод, вычисляющий сумму при заданных параметрах $f(x), a, b, h$."
   ]
  },
  {
   "cell_type": "code",
   "execution_count": 41,
   "id": "c85278c0-7349-4a32-9552-c6617f7fbf6c",
   "metadata": {
    "tags": []
   },
   "outputs": [],
   "source": [
    "def simpson(f, a, b, h):\n",
    "    x_k = a\n",
    "    I = f(x_k)\n",
    "    N = int((b-a)/h)\n",
    "    for i in range(1, N):\n",
    "        x_k += h\n",
    "        if i % 2 == 1:\n",
    "            I += 4 * f(x_k)\n",
    "        else:\n",
    "            I += 2 * f(x_k)\n",
    "    I += f(x_k + h)\n",
    "    I *= h/3\n",
    "    return I"
   ]
  },
  {
   "cell_type": "markdown",
   "id": "a481934c-c6b3-48f4-913e-29a58099307a",
   "metadata": {
    "tags": []
   },
   "source": [
    "Сравним работу двух квадратурных формул на примере вычисления значения интеграла $$I = \\int\\limits_0^2 e^{-t^2}dt$$ с точностью $\\varepsilon = 10^{-7}$."
   ]
  },
  {
   "cell_type": "code",
   "execution_count": 42,
   "id": "53beb9b4-ead0-4344-8818-7a247a739d21",
   "metadata": {
    "tags": []
   },
   "outputs": [
    {
     "name": "stdout",
     "output_type": "stream",
     "text": [
      "CPU times: total: 0 ns\n",
      "Wall time: 2.01 ms\n"
     ]
    },
    {
     "data": {
      "text/plain": [
       "0.8820813674730624"
      ]
     },
     "execution_count": 42,
     "metadata": {},
     "output_type": "execute_result"
    }
   ],
   "source": [
    "%%time\n",
    "runge_rule(1, avg_rectangles, g, 0, 2, 1e-7)"
   ]
  },
  {
   "cell_type": "code",
   "execution_count": 43,
   "id": "49bd95b7-c1f3-457d-928a-4519cb18a9fd",
   "metadata": {
    "tags": []
   },
   "outputs": [
    {
     "name": "stdout",
     "output_type": "stream",
     "text": [
      "CPU times: total: 0 ns\n",
      "Wall time: 0 ns\n"
     ]
    },
    {
     "data": {
      "text/plain": [
       "0.8820813951998405"
      ]
     },
     "execution_count": 43,
     "metadata": {},
     "output_type": "execute_result"
    }
   ],
   "source": [
    "%%time\n",
    "runge_rule(3, simpson, g, 0, 2, 1e-7)"
   ]
  },
  {
   "cell_type": "markdown",
   "id": "3a1ad6b6-22da-4538-bde9-c3581e139d4b",
   "metadata": {},
   "source": [
    "Как можно заметить, алгоритм с методом Симпсона в качестве квадратурной формулы отработал гораздо быстрее алгоритма с формулой средних прямоугольников. Следовательно, для дальнейших вычислений отдадим предпочтение алгоритму с использованием метода Симпсона."
   ]
  },
  {
   "cell_type": "markdown",
   "id": "1d78f590-9cc4-4518-983a-fc56bc5c6273",
   "metadata": {},
   "source": [
    "### Вычисление значений интеграла на концах отрезка"
   ]
  },
  {
   "cell_type": "markdown",
   "id": "2b9e55d0-9582-4cb2-b65e-1b78518c0a2a",
   "metadata": {},
   "source": [
    "Напомним, что нас интересует отрезок, на котором функция $$f(x) = \\dfrac1{\\sqrt{2\\pi}}\\int\\limits_0^x e^{-t^2}dt - 0.3$$ будет иметь на концах разные по знаку значения.\n",
    "\n",
    "Определим компьютерный метод, который будет применять построенный ранее алгоритм Симпсона при заданной точности для вычисления значения функции $f(x)$ в заданной точке."
   ]
  },
  {
   "cell_type": "code",
   "execution_count": 44,
   "id": "9fd224d6-41e3-467c-ba50-361653dd5a17",
   "metadata": {
    "tags": []
   },
   "outputs": [],
   "source": [
    "def f(x, epsilon):\n",
    "    return ( 1 / np.sqrt(2 * np.pi))*runge_rule(3, simpson, g, 0, x, epsilon) - 0.3"
   ]
  },
  {
   "cell_type": "markdown",
   "id": "e491bf4c-5a39-41e6-bdb5-4e947ecdecfb",
   "metadata": {
    "tags": []
   },
   "source": [
    "Пусть значение интеграла в функции $f(x)$ будет вычисляться с точностью $\\varepsilon=10^{-9}$, чтобы остался еще запас по погрешности для дальнейших вычислений."
   ]
  },
  {
   "cell_type": "code",
   "execution_count": 45,
   "id": "c0b016ab-237a-4a54-92d8-69438c3b4bc9",
   "metadata": {
    "tags": []
   },
   "outputs": [],
   "source": [
    "epsilon = 1e-9"
   ]
  },
  {
   "cell_type": "markdown",
   "id": "423ee5d0-5268-4780-8e65-778c1a8482ca",
   "metadata": {},
   "source": [
    "Возьмем точку $x = 2$ и рассмотрим значение в ней:"
   ]
  },
  {
   "cell_type": "code",
   "execution_count": 46,
   "id": "a9daaea8-5c58-4c09-960e-50b66eeb4c28",
   "metadata": {
    "tags": []
   },
   "outputs": [
    {
     "data": {
      "text/plain": [
       "0.0518995615373411"
      ]
     },
     "execution_count": 46,
     "metadata": {},
     "output_type": "execute_result"
    }
   ],
   "source": [
    "f(2, epsilon)"
   ]
  },
  {
   "cell_type": "markdown",
   "id": "be1847fb-5499-40e7-8b6c-e3c0e7522c40",
   "metadata": {},
   "source": [
    "То есть $$f(2) > 0.$$\n",
    "Поскольку подынтегральная функция монотонно убывающая на $[0, +\\infty)$, все значения которые справа точно дадут положительный результат (так как она строго положительна). $\\dfrac1{\\sqrt{2\\pi}} \\approx 0.398$, следовательно значение интеграла должно быть чуть меньше 1.\n",
    "\n",
    "Возьмем значения из промежутка $(0,2)$. Например, $x = 1$."
   ]
  },
  {
   "cell_type": "code",
   "execution_count": 47,
   "id": "0643f51f-f6cd-41a4-8847-7bb3b4792eb3",
   "metadata": {
    "tags": []
   },
   "outputs": [
    {
     "data": {
      "text/plain": [
       "-0.0020602774108717248"
      ]
     },
     "execution_count": 47,
     "metadata": {},
     "output_type": "execute_result"
    }
   ],
   "source": [
    "f(1, epsilon)"
   ]
  },
  {
   "cell_type": "markdown",
   "id": "29bb7deb-ee97-4f67-99e5-54cad3035895",
   "metadata": {},
   "source": [
    "Таким образом, $$f(1) < 0.$$\n",
    "В итоге мы определили отрезок $[1, 2]$, на котором функция имеет различные значения на концах и монотонна. Следовательно, на этом отрезке находится единственный корень исследуемого уравнения.\n",
    "\n",
    "Также заметим, что из-за монотонности подынтегральной функции, функция $f(x)$ больше нигде кроме выбранного отрезка менять знак не будет. То есть то решение уравнения, которое мы найдем на данном отрезке, будет единственным на всем множестве."
   ]
  },
  {
   "cell_type": "markdown",
   "id": "f5470d5d-a3ec-4039-8c15-cb79294f005a",
   "metadata": {},
   "source": [
    "На этом процедуру отделения корня мы не закончим. Мы уточним отрезок, применив к нему **метод дихотомии** (метод деления отрезка пополам). Сильно увлекаться не будем, и уточним лишь до значения $\\varepsilon_2 = 10^{-1}$."
   ]
  },
  {
   "cell_type": "code",
   "execution_count": 49,
   "id": "de1e1ddc-c891-41cc-8c08-a76ac5928af0",
   "metadata": {
    "tags": []
   },
   "outputs": [
    {
     "data": {
      "text/html": [
       "<div>\n",
       "<style scoped>\n",
       "    .dataframe tbody tr th:only-of-type {\n",
       "        vertical-align: middle;\n",
       "    }\n",
       "\n",
       "    .dataframe tbody tr th {\n",
       "        vertical-align: top;\n",
       "    }\n",
       "\n",
       "    .dataframe thead th {\n",
       "        text-align: right;\n",
       "    }\n",
       "</style>\n",
       "<table border=\"1\" class=\"dataframe\">\n",
       "  <thead>\n",
       "    <tr style=\"text-align: right;\">\n",
       "      <th></th>\n",
       "      <th>a</th>\n",
       "      <th>b</th>\n",
       "      <th>b-a</th>\n",
       "      <th>f(a)</th>\n",
       "      <th>f(b)</th>\n",
       "      <th>(a+b)/2</th>\n",
       "    </tr>\n",
       "  </thead>\n",
       "  <tbody>\n",
       "    <tr>\n",
       "      <th>0</th>\n",
       "      <td>1</td>\n",
       "      <td>2.0000</td>\n",
       "      <td>1.0000</td>\n",
       "      <td>-0.002066</td>\n",
       "      <td>0.054748</td>\n",
       "      <td>1.50000</td>\n",
       "    </tr>\n",
       "    <tr>\n",
       "      <th>1</th>\n",
       "      <td>1</td>\n",
       "      <td>1.5000</td>\n",
       "      <td>0.5000</td>\n",
       "      <td>-0.002066</td>\n",
       "      <td>0.042084</td>\n",
       "      <td>1.25000</td>\n",
       "    </tr>\n",
       "    <tr>\n",
       "      <th>2</th>\n",
       "      <td>1</td>\n",
       "      <td>1.2500</td>\n",
       "      <td>0.2500</td>\n",
       "      <td>-0.002066</td>\n",
       "      <td>0.026403</td>\n",
       "      <td>1.12500</td>\n",
       "    </tr>\n",
       "    <tr>\n",
       "      <th>3</th>\n",
       "      <td>1</td>\n",
       "      <td>1.1250</td>\n",
       "      <td>0.1250</td>\n",
       "      <td>-0.002066</td>\n",
       "      <td>0.014121</td>\n",
       "      <td>1.06250</td>\n",
       "    </tr>\n",
       "    <tr>\n",
       "      <th>4</th>\n",
       "      <td>1</td>\n",
       "      <td>1.0625</td>\n",
       "      <td>0.0625</td>\n",
       "      <td>-0.002066</td>\n",
       "      <td>0.006558</td>\n",
       "      <td>1.03125</td>\n",
       "    </tr>\n",
       "  </tbody>\n",
       "</table>\n",
       "</div>"
      ],
      "text/plain": [
       "   a       b     b-a      f(a)      f(b)  (a+b)/2\n",
       "0  1  2.0000  1.0000 -0.002066  0.054748  1.50000\n",
       "1  1  1.5000  0.5000 -0.002066  0.042084  1.25000\n",
       "2  1  1.2500  0.2500 -0.002066  0.026403  1.12500\n",
       "3  1  1.1250  0.1250 -0.002066  0.014121  1.06250\n",
       "4  1  1.0625  0.0625 -0.002066  0.006558  1.03125"
      ]
     },
     "execution_count": 49,
     "metadata": {},
     "output_type": "execute_result"
    }
   ],
   "source": [
    "a, b = 1, 2\n",
    "epsilon_2 = 1e-1\n",
    "\n",
    "dichotomy_table = [[a, b, b - a, f(a, epsilon), f(b, epsilon) , (a + b)/2]]\n",
    "c = 0\n",
    "while b - a > epsilon_2:\n",
    "    c = (a + b) / 2\n",
    "    if f(c, epsilon) * f(a, epsilon) >= 0:\n",
    "        a = c\n",
    "    else:\n",
    "        b = c\n",
    "    dichotomy_table.append([a, b, b - a, f(a, epsilon), f(b, epsilon) , (a + b) / 2])\n",
    "    \n",
    "pd.DataFrame(dichotomy_table, columns = ['a', 'b', 'b-a', 'f(a)', 'f(b)', '(a+b)/2'])"
   ]
  },
  {
   "cell_type": "markdown",
   "id": "9c9deae4-7b58-4b84-9715-238560c6463c",
   "metadata": {},
   "source": [
    "Таким образом, применив метод дихотомии, мы получили уточненный отрезок $[1, 1.0625]$, на котором находится корень исследуемого уравнения.\n",
    "\n",
    "Теперь мы можем применять методы решения нелинейных уравнений для уточнения приближенного значения корня."
   ]
  },
  {
   "cell_type": "markdown",
   "id": "ab21046f-f08f-4b4a-acc1-ff278b517a06",
   "metadata": {},
   "source": [
    "## Метод Ньютона "
   ]
  },
  {
   "cell_type": "markdown",
   "id": "9077f64e-c5b5-4c77-9654-e31e21720944",
   "metadata": {},
   "source": [
    "Формула этого метода имеет следующий вид $$x^{k+1} = x^k - \\dfrac{f(x^k)}{f'(x^0)},\\quad k=0,1,\\ldots;\\quad x^0.$$\n",
    "\n",
    "**Условия сходимости метода:**\n",
    "\n",
    "Необходимо выбрать начальное приближение $x_0$ так, чтобы выполнялись условия:\n",
    "\n",
    "1. Функция $f(x)$ определена и дважды непрерывно дифференцируема на отрезке $$s_0 = [x^0; x^0 + 2h_0],\\quad h_0 =- \\dfrac{f(x^0)}{f'(x^0)}.$$ При этом на концах отрезка $f(x)f'(x)\\ne 0$.\n",
    "\n",
    "2. Для начального приближения $x^0$ выполняется неравенство $$2|h_0|M \\leq |f'(x^0)|,\\quad M = \\underset{x\\in s_0}{\\max}|f''(x)|.$$"
   ]
  },
  {
   "cell_type": "markdown",
   "id": "f42973a2-a482-49ee-99b7-fd938cdf0689",
   "metadata": {},
   "source": [
    "Итак, на данный момент в нашем случае мы имеем следующие значения:\n",
    "\n",
    "- $f(x) = \\dfrac1{\\sqrt{2\\pi}}\\int\\limits_0^x e^{-t^2}dt - 0.3;$\n",
    "\n",
    "- $g(x) = e^{-x^2};$\n",
    "\n",
    "- $x^* \\in [1, 1.0625]$."
   ]
  },
  {
   "cell_type": "markdown",
   "id": "e890e0dc-7e6d-4a91-80ce-b69901fce971",
   "metadata": {},
   "source": [
    "Выбираем $x^0 = 1$. Проверим выполнение первого условия:"
   ]
  },
  {
   "cell_type": "code",
   "execution_count": 50,
   "id": "2189e999-b238-40df-9162-4b72a3ebc6df",
   "metadata": {
    "tags": []
   },
   "outputs": [
    {
     "name": "stdout",
     "output_type": "stream",
     "text": [
      "x_0 = 1\n",
      "h_0 = 0.014079444532643681\n",
      "s_0 = [ 1.0 ; 1.0281588890652873 ]\n"
     ]
    }
   ],
   "source": [
    "x_0 = 1\n",
    "print('x_0 =', x_0) \n",
    "h_0 = - f(x_0, epsilon) / (( 1 / np.sqrt(2 * np.pi))*g(x_0))\n",
    "print('h_0 =', h_0) \n",
    "s_0 = np.linspace(x_0, x_0 + 2*h_0, 10000)\n",
    "print('s_0 = [', s_0[0], ';', s_0[-1], ']')"
   ]
  },
  {
   "cell_type": "markdown",
   "id": "b5794878-5bda-465d-b1e1-6fb1f4397638",
   "metadata": {
    "tags": []
   },
   "source": [
    "Проверяем, чтобы на концах отрезка значение функции и ее производной не обращались в ноль одновременно:"
   ]
  },
  {
   "cell_type": "code",
   "execution_count": 51,
   "id": "5ba1d018-d257-4150-9844-aafd3383d718",
   "metadata": {
    "tags": []
   },
   "outputs": [
    {
     "data": {
      "text/plain": [
       "-0.000303261088203498"
      ]
     },
     "execution_count": 51,
     "metadata": {},
     "output_type": "execute_result"
    }
   ],
   "source": [
    "f(s_0[0], epsilon)* ( 1 / np.sqrt(2 * np.pi))*g(s_0[0])"
   ]
  },
  {
   "cell_type": "code",
   "execution_count": 52,
   "id": "67cd4db3-5150-4d9d-951b-3b4c6d1b0d96",
   "metadata": {
    "tags": []
   },
   "outputs": [
    {
     "data": {
      "text/plain": [
       "0.0002711076054324562"
      ]
     },
     "execution_count": 52,
     "metadata": {},
     "output_type": "execute_result"
    }
   ],
   "source": [
    "f(s_0[-1], epsilon)*( 1 / np.sqrt(2 * np.pi))*g(s_0[-1])"
   ]
  },
  {
   "cell_type": "markdown",
   "id": "ed50f91f-05da-4cb0-97d5-3e450f1374f6",
   "metadata": {},
   "source": [
    "Значения в ноль не обращаются, условие выполнено. \n",
    "\n",
    "Проверим второе условие сходимости. Для него нам нужна вторая производная $f''(x)$ или же $\\dfrac1{\\sqrt{2\\pi}}g'(x)$:\n",
    "$$f''(x) = \\dfrac1{\\sqrt{2\\pi}}g'(x) = -2\\dfrac1{\\sqrt{2\\pi}}xe^{-x^2}.$$\n",
    "Получившаяся функция является линейной комбинацией монотонно убывающих непрерывных на выбранном отрезке функций, а следовательно, сама является непрерывной и монотонно убывающей на этом отрезке. Тогда ее наибольшее значение достигается на левом конце рассматриваемого отрезка."
   ]
  },
  {
   "cell_type": "code",
   "execution_count": 53,
   "id": "8f29266d-c5e0-4cd2-a12b-47237e46bd17",
   "metadata": {
    "tags": []
   },
   "outputs": [],
   "source": [
    "def derivative_g(x):\n",
    "    return ( 1 / np.sqrt(2 * np.pi))*np.e ** (-x ** 2)*(-2)*x"
   ]
  },
  {
   "cell_type": "markdown",
   "id": "34ef3450-ffa2-453c-a908-743374696b5a",
   "metadata": {},
   "source": [
    "Применяя компьютерные методы, найдем число $M$, которое требуется во втором условии сходимости:"
   ]
  },
  {
   "cell_type": "code",
   "execution_count": 54,
   "id": "f3116473-c649-400c-8408-4a2e8687d2fd",
   "metadata": {
    "tags": []
   },
   "outputs": [
    {
     "data": {
      "text/plain": [
       "0.29352532634747985"
      ]
     },
     "execution_count": 54,
     "metadata": {},
     "output_type": "execute_result"
    }
   ],
   "source": [
    "M = np.max(np.absolute(derivative_g(s_0)))\n",
    "M"
   ]
  },
  {
   "cell_type": "markdown",
   "id": "2fb4faea-22e0-43a7-b950-dfb66f96f9fa",
   "metadata": {},
   "source": [
    "Также с помощью компьютерных методов проверяем выполнение самого условия:"
   ]
  },
  {
   "cell_type": "code",
   "execution_count": 55,
   "id": "bc0799c6-7ab6-4d47-abe7-3535404a9dcd",
   "metadata": {
    "tags": []
   },
   "outputs": [
    {
     "data": {
      "text/plain": [
       "True"
      ]
     },
     "execution_count": 55,
     "metadata": {},
     "output_type": "execute_result"
    }
   ],
   "source": [
    "2 * np.absolute(h_0) * M <= np.absolute(g(x_0))"
   ]
  },
  {
   "cell_type": "markdown",
   "id": "7740f1a5-0306-4b11-b467-c1c769419700",
   "metadata": {},
   "source": [
    "Итого оба условия сходимости выполнены, следовательно, построенный нами по методу Ньютона итерационный процесс будет сходиться к нашему искомому корню.\n",
    "\n",
    "Теперь компьютерно реализуем сам итерационный процесс. Введем заданную по условию точность $\\epsilon_3 = 10^{-4}$:"
   ]
  },
  {
   "cell_type": "code",
   "execution_count": 56,
   "id": "cf76dc6f-3ecb-43c1-a1a1-832abf0886b3",
   "metadata": {
    "tags": []
   },
   "outputs": [],
   "source": [
    "epsilon_3 = 1e-4"
   ]
  },
  {
   "cell_type": "markdown",
   "id": "bd5cc030-a384-4617-84f1-02b6d785e14a",
   "metadata": {},
   "source": [
    "Определим функцию $$\\varphi(x) = x - \\dfrac{f(x)}{f'(x)}$$"
   ]
  },
  {
   "cell_type": "code",
   "execution_count": 57,
   "id": "f6b1cd47-0c2c-428c-af5f-2768007212f3",
   "metadata": {
    "tags": []
   },
   "outputs": [],
   "source": [
    "def phi(x):\n",
    "    return x - f(x, epsilon) / (( 1 / np.sqrt(2 * np.pi))*g(x))"
   ]
  },
  {
   "cell_type": "markdown",
   "id": "b9603136-d62b-4d78-8000-d6d2ccd45de6",
   "metadata": {},
   "source": [
    "С помощью цикла реализуем итерационный процесс по формуле $$x^{k+1} = \\varphi(x^k),\\ \\texttt{while}\\ |x_{k+1} - x_k| > \\varepsilon,\\ k=0,1,\\ldots$$\n",
    "Выпишем в виде таблицы итоговый результат."
   ]
  },
  {
   "cell_type": "code",
   "execution_count": 58,
   "id": "5e080481-3482-4a7a-a035-508817d7b96d",
   "metadata": {
    "tags": []
   },
   "outputs": [],
   "source": [
    "x_k = x_0\n",
    "x_k1 = phi(x_0)\n",
    "iterations = [[x_k1, np.absolute(x_k1 - x_k)]]\n",
    "while np.absolute(x_k1 - x_k) >= epsilon_3:\n",
    "    x_k = x_k1\n",
    "    x_k1 = phi(x_k)\n",
    "    iterations.append([x_k1, np.absolute(x_k1 - x_k)])"
   ]
  },
  {
   "cell_type": "code",
   "execution_count": 59,
   "id": "99714c9b-07ac-4bf1-94c5-cb1e910f6a46",
   "metadata": {
    "tags": []
   },
   "outputs": [
    {
     "data": {
      "text/html": [
       "<div>\n",
       "<style scoped>\n",
       "    .dataframe tbody tr th:only-of-type {\n",
       "        vertical-align: middle;\n",
       "    }\n",
       "\n",
       "    .dataframe tbody tr th {\n",
       "        vertical-align: top;\n",
       "    }\n",
       "\n",
       "    .dataframe thead tr th {\n",
       "        text-align: left;\n",
       "    }\n",
       "</style>\n",
       "<table border=\"1\" class=\"dataframe\">\n",
       "  <thead>\n",
       "    <tr>\n",
       "      <th>Назание метода</th>\n",
       "      <th colspan=\"2\" halign=\"left\">Метод Ньютона</th>\n",
       "    </tr>\n",
       "    <tr>\n",
       "      <th></th>\n",
       "      <th>x_k</th>\n",
       "      <th>|x_k+1 - x_k|</th>\n",
       "    </tr>\n",
       "  </thead>\n",
       "  <tbody>\n",
       "    <tr>\n",
       "      <th>0</th>\n",
       "      <td>1.014079</td>\n",
       "      <td>1.407944e-02</td>\n",
       "    </tr>\n",
       "    <tr>\n",
       "      <th>1</th>\n",
       "      <td>1.014267</td>\n",
       "      <td>1.875341e-04</td>\n",
       "    </tr>\n",
       "    <tr>\n",
       "      <th>2</th>\n",
       "      <td>1.014267</td>\n",
       "      <td>1.858565e-07</td>\n",
       "    </tr>\n",
       "  </tbody>\n",
       "</table>\n",
       "</div>"
      ],
      "text/plain": [
       "Назание метода Метод Ньютона              \n",
       "                         x_k |x_k+1 - x_k|\n",
       "0                   1.014079  1.407944e-02\n",
       "1                   1.014267  1.875341e-04\n",
       "2                   1.014267  1.858565e-07"
      ]
     },
     "execution_count": 59,
     "metadata": {},
     "output_type": "execute_result"
    }
   ],
   "source": [
    "newton_table = pd.DataFrame(iterations, columns=[('Метод Ньютона', 'x_k'), ('Метод Ньютона', '|x_k+1 - x_k|')])\n",
    "newton_table.columns = pd.MultiIndex.from_tuples(newton_table.columns, names=['Назание метода', ''])\n",
    "newton_table"
   ]
  },
  {
   "cell_type": "markdown",
   "id": "bfc8a6d8-e114-44c0-8c03-d1d66915990e",
   "metadata": {
    "tags": []
   },
   "source": [
    "Итак, мы достигли заданной точности за 3 итерации. Причем полученная в итоге погрешность оказалась гораздо меньше, чем нам нужна была. \n",
    "\n",
    "Таким образом, мы нашли корень уравнения $$f(x) = \\dfrac1{\\sqrt{2\\pi}}\\int\\limits_0^x e^{-t^2}dt - 0.3 = 0$$ с точностью $10^{-4}$. Убедимся в том, что это действительно корень:"
   ]
  },
  {
   "cell_type": "code",
   "execution_count": 66,
   "id": "68a53148-0e39-4171-8064-b5880a4276b3",
   "metadata": {
    "tags": []
   },
   "outputs": [
    {
     "data": {
      "text/plain": [
       "2.9551841029817894e-08"
      ]
     },
     "execution_count": 66,
     "metadata": {},
     "output_type": "execute_result"
    }
   ],
   "source": [
    "f(1.014267, epsilon)"
   ]
  },
  {
   "cell_type": "markdown",
   "id": "9a8cdf55-e5c6-49fb-841b-a76a6de0e8bb",
   "metadata": {},
   "source": [
    "То есть полученное значение действительно оказалось корнем уравнения точности $\\varepsilon = 10^{-8}$.\n",
    "\n",
    "Также можно заметить, что, подставив значение $x_{k+1}$ из последней итерации, мы получим"
   ]
  },
  {
   "cell_type": "code",
   "execution_count": 67,
   "id": "af21727e-a76e-478f-b54a-27b6e0cab039",
   "metadata": {
    "tags": []
   },
   "outputs": [
    {
     "data": {
      "text/plain": [
       "-3.134420500927604e-11"
      ]
     },
     "execution_count": 67,
     "metadata": {},
     "output_type": "execute_result"
    }
   ],
   "source": [
    "f(x_k1, epsilon)"
   ]
  },
  {
   "cell_type": "markdown",
   "id": "dc909f41-e8b5-456e-b134-5980a8889801",
   "metadata": {
    "tags": []
   },
   "source": [
    "То есть, несмотря на поставленное условие, за 3 итерации мы смогли достичь достаточно хорошей точности для корня уравнения. Получившийся корень имеет вид:"
   ]
  },
  {
   "cell_type": "code",
   "execution_count": 68,
   "id": "e733a324-f8cf-4be5-abb8-e519873625cd",
   "metadata": {
    "tags": []
   },
   "outputs": [
    {
     "data": {
      "text/plain": [
       "1.0142667927967344"
      ]
     },
     "execution_count": 68,
     "metadata": {},
     "output_type": "execute_result"
    }
   ],
   "source": [
    "x_k1"
   ]
  },
  {
   "cell_type": "markdown",
   "id": "3faf499e-d086-41a4-8f8b-c796deeba2ba",
   "metadata": {},
   "source": [
    "Корень исходного уравнения приблизительно равен $$x^* \\approx 1.0142667927967344.$$"
   ]
  }
 ],
 "metadata": {
  "kernelspec": {
   "display_name": "Python 3 (ipykernel)",
   "language": "python",
   "name": "python3"
  },
  "language_info": {
   "codemirror_mode": {
    "name": "ipython",
    "version": 3
   },
   "file_extension": ".py",
   "mimetype": "text/x-python",
   "name": "python",
   "nbconvert_exporter": "python",
   "pygments_lexer": "ipython3",
   "version": "3.10.7"
  }
 },
 "nbformat": 4,
 "nbformat_minor": 5
}
